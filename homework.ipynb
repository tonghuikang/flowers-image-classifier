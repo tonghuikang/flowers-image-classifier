{
 "cells": [
  {
   "cell_type": "code",
   "execution_count": 3,
   "id": "outside-mention",
   "metadata": {},
   "outputs": [
    {
     "name": "stdout",
     "output_type": "stream",
     "text": [
      "torch.Size([3, 224, 224])\n",
      "Label: tensor(273) . Confidence Score: 81.02312469482422 %\n",
      "Label: tensor(207) . Confidence Score: 2.8767271041870117 %\n",
      "Label: tensor(248) . Confidence Score: 2.681793451309204 %\n",
      "Label: tensor(263) . Confidence Score: 2.074437141418457 %\n",
      "Label: tensor(235) . Confidence Score: 1.7300022840499878 %\n"
     ]
    }
   ],
   "source": [
    "import torch, torchvision\n",
    "from PIL import Image\n",
    "from urllib.request import urlopen\n",
    "\n",
    "# load model\n",
    "resnet = torchvision.models.resnet101(pretrained=True)\n",
    "\n",
    "# set network to evaluation mode\n",
    "resnet.eval()\n",
    "\n",
    "transform = torchvision.transforms.Compose([          \n",
    " torchvision.transforms.Resize(256),                   \n",
    " torchvision.transforms.CenterCrop(224),               \n",
    " torchvision.transforms.ToTensor(),                     \n",
    " torchvision.transforms.Normalize(                      \n",
    " mean=[0.485, 0.456, 0.406],                            \n",
    " std=[0.229, 0.224, 0.225]                             \n",
    " )])\n",
    "\n",
    "img = Image.open(urlopen(\"https://upload.wikimedia.org/wikipedia/en/5/5f/Original_Doge_meme.jpg\"))\n",
    "img_t = transform(img)\n",
    "print(img_t.shape)\n",
    "\n",
    "batch_t = torch.unsqueeze(img_t, 0)\n",
    "\n",
    "\n",
    "# perform inference\n",
    "out = resnet(batch_t)\n",
    "\n",
    "# print top-5 classes predicted by model\n",
    "_, indices = torch.sort(out, descending=True)\n",
    "percentage = torch.nn.functional.softmax(out, dim=1)[0] * 100\n",
    "for idx in indices[0][:5]:\n",
    "  print('Label:', idx, '. Confidence Score:', percentage[idx].item(), '%')\n"
   ]
  },
  {
   "cell_type": "code",
   "execution_count": 4,
   "id": "parliamentary-monitor",
   "metadata": {},
   "outputs": [
    {
     "name": "stdout",
     "output_type": "stream",
     "text": [
      "[NbConvertApp] WARNING | Config option `kernel_spec_manager_class` not recognized by `NbConvertApp`.\n",
      "[NbConvertApp] Converting notebook homework.ipynb to script\n",
      "[NbConvertApp] Writing 1098 bytes to homework.py\n"
     ]
    }
   ],
   "source": [
    "!jupyter nbconvert --to script homework.ipynb"
   ]
  },
  {
   "cell_type": "code",
   "execution_count": null,
   "id": "daily-azerbaijan",
   "metadata": {},
   "outputs": [],
   "source": []
  }
 ],
 "metadata": {
  "environment": {
   "name": "pytorch-gpu.1-7.mnightly-2021-02-02-debian-10-test",
   "type": "gcloud",
   "uri": "gcr.io/deeplearning-platform-release/pytorch-gpu.1-7:mnightly-2021-02-02-debian-10-test"
  },
  "kernelspec": {
   "display_name": "Python 3",
   "language": "python",
   "name": "python3"
  },
  "language_info": {
   "codemirror_mode": {
    "name": "ipython",
    "version": 3
   },
   "file_extension": ".py",
   "mimetype": "text/x-python",
   "name": "python",
   "nbconvert_exporter": "python",
   "pygments_lexer": "ipython3",
   "version": "3.7.9"
  }
 },
 "nbformat": 4,
 "nbformat_minor": 5
}
